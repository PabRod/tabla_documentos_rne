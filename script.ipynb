{
 "cells": [
  {
   "cell_type": "markdown",
   "metadata": {},
   "source": [
    "# Import required modules"
   ]
  },
  {
   "cell_type": "code",
   "execution_count": 1,
   "metadata": {},
   "outputs": [],
   "source": [
    "import pandas as pd # For using data frames\n",
    "pd.options.mode.copy_on_write = True # See https://pandas.pydata.org/pandas-docs/stable/user_guide/indexing.html#returning-a-view-versus-a-copy\n",
    "import re           # For using regular expressions"
   ]
  },
  {
   "cell_type": "markdown",
   "metadata": {},
   "source": [
    "## Process the data\n",
    "\n",
    "We want to turn `data/summary_documentosRNE.txt` into a clickable table of titles and urls.\n",
    "In order to do this, we'll need the functions below:"
   ]
  },
  {
   "cell_type": "code",
   "execution_count": 2,
   "metadata": {},
   "outputs": [],
   "source": [
    "def parse_summaries(file=\"data/summary_documentosRNE.txt\"):\n",
    "    # Read the file line by line\n",
    "    with open(file, 'r') as f:\n",
    "        lines = f.readlines()\n",
    "\n",
    "    # Initialize an empty list to store the data\n",
    "    data = []\n",
    "\n",
    "    # Loop through each line and extract the relevant information\n",
    "    for line in lines:\n",
    "        # Use regular expressions to extract the title, album, date, genre, language, and id\n",
    "        match = re.search(r'-i (\\d+)\\.mp3.*-metadata title=\"([^\"]+)\" -metadata album=\"([^\"]+)\" -metadata date=\"([^\"]+)\" -metadata genre=\"([^\"]+)\" -metadata language=\"([^\"]+)\"', line)\n",
    "        if match:\n",
    "            id = match.group(1)\n",
    "            title = match.group(2)\n",
    "            album = match.group(3)\n",
    "            date = match.group(4)\n",
    "            genre = match.group(5)\n",
    "            language = match.group(6)\n",
    "            # Append the data to the list\n",
    "            data.append({'id': id, 'title': title, 'album': album, 'date': date, 'genre': genre, 'language': language})\n",
    "\n",
    "    # Convert the list to a pandas DataFrame\n",
    "    df = pd.DataFrame(data)\n",
    "    \n",
    "    return(df)\n",
    "\n",
    "def simplify(df):\n",
    "    \"\"\" Return just title, date, id and url to mp3 file \"\"\"\n",
    "    sdf = df[['title', 'date', 'id']]\n",
    "    sdf['mp3'] = \"https://ztnr.rtve.es/ztnr/\" + sdf['id'] + \".mp3\" # Build the url using the id\n",
    "    \n",
    "    sdf.set_index('id', inplace=True)                              # The id is unique, so it constitutes a good index\n",
    "    sdf = sdf.sort_values('date', ascending=False)                 # Sort by date (newest first)\n",
    "    \n",
    "    return(sdf)"
   ]
  },
  {
   "cell_type": "markdown",
   "metadata": {},
   "source": [
    "We're ready to use the functions.\n",
    "The result is `sim_df`, a `pandas.DataFrame` object."
   ]
  },
  {
   "cell_type": "code",
   "execution_count": 3,
   "metadata": {},
   "outputs": [],
   "source": [
    "raw_df = parse_summaries()\n",
    "sim_df = simplify(raw_df)"
   ]
  },
  {
   "cell_type": "markdown",
   "metadata": {},
   "source": [
    "## Ready for publishing\n",
    "\n",
    "The data frame above is good for data analysis, but not yet ready for publishing.\n",
    "Let's translate it to markdown, and dump it into a file."
   ]
  },
  {
   "cell_type": "code",
   "execution_count": null,
   "metadata": {},
   "outputs": [],
   "source": [
    "with open(\"table.md\", \"w\") as text_file:\n",
    "    text_file.write(\"%s\" % sim_df.to_markdown())"
   ]
  }
 ],
 "metadata": {
  "kernelspec": {
   "display_name": ".venv",
   "language": "python",
   "name": "python3"
  },
  "language_info": {
   "codemirror_mode": {
    "name": "ipython",
    "version": 3
   },
   "file_extension": ".py",
   "mimetype": "text/x-python",
   "name": "python",
   "nbconvert_exporter": "python",
   "pygments_lexer": "ipython3",
   "version": "3.13.0"
  }
 },
 "nbformat": 4,
 "nbformat_minor": 2
}
